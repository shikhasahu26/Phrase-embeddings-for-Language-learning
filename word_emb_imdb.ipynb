{
 "cells": [
  {
   "cell_type": "code",
   "execution_count": 1,
   "metadata": {},
   "outputs": [],
   "source": [
    "from __future__ import absolute_import, division, print_function, unicode_literals\n",
    "\n",
    "try:\n",
    "  # %tensorflow_version only exists in Colab.\n",
    "  %tensorflow_version 2.x\n",
    "except Exception:\n",
    "  pass\n",
    "import tensorflow as tf\n",
    "\n",
    "from tensorflow import keras\n",
    "from tensorflow.keras import layers\n",
    "import numpy as np\n",
    "import pandas as pd\n",
    "\n",
    "# The Embedding layer takes at least two arguments:\n",
    "# the number of possible words in the vocabulary, here 1000 (1 + maximum word index),\n",
    "# and the dimensionality of the embeddings, here 32.\n",
    "embedding_layer = layers.Embedding(1000, 32)"
   ]
  },
  {
   "cell_type": "code",
   "execution_count": 2,
   "metadata": {},
   "outputs": [],
   "source": [
    "vocab_size = 10000\n",
    "imdb = keras.datasets.imdb\n",
    "np_load_old = np.load\n",
    "np.load = lambda *a,**k: np_load_old(*a, allow_pickle=True, **k)\n",
    "(train_data, train_labels), (test_data, test_labels) = imdb.load_data(num_words=vocab_size)\n",
    "np.load = np_load_old"
   ]
  },
  {
   "cell_type": "code",
   "execution_count": 3,
   "metadata": {},
   "outputs": [
    {
     "name": "stdout",
     "output_type": "stream",
     "text": [
      "[1, 14, 22, 16, 43, 530, 973, 1622, 1385, 65, 458, 4468, 66, 3941, 4, 173, 36, 256, 5, 25, 100, 43, 838, 112, 50, 670, 2, 9, 35, 480, 284, 5, 150, 4, 172, 112, 167, 2, 336, 385, 39, 4, 172, 4536, 1111, 17, 546, 38, 13, 447, 4, 192, 50, 16, 6, 147, 2025, 19, 14, 22, 4, 1920, 4613, 469, 4, 22, 71, 87, 12, 16, 43, 530, 38, 76, 15, 13, 1247, 4, 22, 17, 515, 17, 12, 16, 626, 18, 2, 5, 62, 386, 12, 8, 316, 8, 106, 5, 4, 2223, 5244, 16, 480, 66, 3785, 33, 4, 130, 12, 16, 38, 619, 5, 25, 124, 51, 36, 135, 48, 25, 1415, 33, 6, 22, 12, 215, 28, 77, 52, 5, 14, 407, 16, 82, 2, 8, 4, 107, 117, 5952, 15, 256, 4, 2, 7, 3766, 5, 723, 36, 71, 43, 530, 476, 26, 400, 317, 46, 7, 4, 2, 1029, 13, 104, 88, 4, 381, 15, 297, 98, 32, 2071, 56, 26, 141, 6, 194, 7486, 18, 4, 226, 22, 21, 134, 476, 26, 480, 5, 144, 30, 5535, 18, 51, 36, 28, 224, 92, 25, 104, 4, 226, 65, 16, 38, 1334, 88, 12, 16, 283, 5, 16, 4472, 113, 103, 32, 15, 16, 5345, 19, 178, 32]\n"
     ]
    }
   ],
   "source": [
    "print(train_data[0])"
   ]
  },
  {
   "cell_type": "code",
   "execution_count": 4,
   "metadata": {},
   "outputs": [
    {
     "data": {
      "text/plain": [
       "\"<START> this film was just brilliant casting location scenery story direction everyone's really suited the part they played and you could just imagine being there robert <UNK> is an amazing actor and now the same being director <UNK> father came from the same scottish island as myself so i loved the fact there was a real connection with this film the witty remarks throughout the film were great it was just brilliant so much that i bought the film as soon as it was released for <UNK> and would recommend it to everyone to watch and the fly fishing was amazing really cried at the end it was so sad and you know what they say if you cry at a film it must have been good and this definitely was also <UNK> to the two little boy's that played the <UNK> of norman and paul they were just brilliant children are often left out of the <UNK> list i think because the stars that play them all grown up are such a big profile for the whole film but these children are amazing and should be praised for what they have done don't you think the whole story was so lovely because it was true and was someone's life after all that was shared with us all\""
      ]
     },
     "execution_count": 4,
     "metadata": {},
     "output_type": "execute_result"
    }
   ],
   "source": [
    "# A dictionary mapping words to an integer index\n",
    "word_index = imdb.get_word_index()\n",
    "\n",
    "# The first indices are reserved\n",
    "word_index = {k:(v+3) for k,v in word_index.items()}\n",
    "word_index[\"<PAD>\"] = 0\n",
    "word_index[\"<START>\"] = 1\n",
    "word_index[\"<UNK>\"] = 2  # unknown\n",
    "word_index[\"<UNUSED>\"] = 3\n",
    "\n",
    "reverse_word_index = dict([(value, key) for (key, value) in word_index.items()])\n",
    "\n",
    "def decode_review(text):\n",
    "    return ' '.join([reverse_word_index.get(i, '?') for i in text])\n",
    "\n",
    "decode_review(train_data[0])"
   ]
  },
  {
   "cell_type": "code",
   "execution_count": 5,
   "metadata": {},
   "outputs": [],
   "source": [
    "maxlen = 500\n",
    "\n",
    "train_data = keras.preprocessing.sequence.pad_sequences(train_data,\n",
    "                                                        value=word_index[\"<PAD>\"],\n",
    "                                                        padding='post',\n",
    "                                                        maxlen=maxlen)\n",
    "\n",
    "test_data = keras.preprocessing.sequence.pad_sequences(test_data,\n",
    "                                                       value=word_index[\"<PAD>\"],\n",
    "                                                       padding='post',\n",
    "                                                       maxlen=maxlen)"
   ]
  },
  {
   "cell_type": "code",
   "execution_count": 6,
   "metadata": {},
   "outputs": [
    {
     "name": "stdout",
     "output_type": "stream",
     "text": [
      "[   1   14   22   16   43  530  973 1622 1385   65  458 4468   66 3941\n",
      "    4  173   36  256    5   25  100   43  838  112   50  670    2    9\n",
      "   35  480  284    5  150    4  172  112  167    2  336  385   39    4\n",
      "  172 4536 1111   17  546   38   13  447    4  192   50   16    6  147\n",
      " 2025   19   14   22    4 1920 4613  469    4   22   71   87   12   16\n",
      "   43  530   38   76   15   13 1247    4   22   17  515   17   12   16\n",
      "  626   18    2    5   62  386   12    8  316    8  106    5    4 2223\n",
      " 5244   16  480   66 3785   33    4  130   12   16   38  619    5   25\n",
      "  124   51   36  135   48   25 1415   33    6   22   12  215   28   77\n",
      "   52    5   14  407   16   82    2    8    4  107  117 5952   15  256\n",
      "    4    2    7 3766    5  723   36   71   43  530  476   26  400  317\n",
      "   46    7    4    2 1029   13  104   88    4  381   15  297   98   32\n",
      " 2071   56   26  141    6  194 7486   18    4  226   22   21  134  476\n",
      "   26  480    5  144   30 5535   18   51   36   28  224   92   25  104\n",
      "    4  226   65   16   38 1334   88   12   16  283    5   16 4472  113\n",
      "  103   32   15   16 5345   19  178   32    0    0    0    0    0    0\n",
      "    0    0    0    0    0    0    0    0    0    0    0    0    0    0\n",
      "    0    0    0    0    0    0    0    0    0    0    0    0    0    0\n",
      "    0    0    0    0    0    0    0    0    0    0    0    0    0    0\n",
      "    0    0    0    0    0    0    0    0    0    0    0    0    0    0\n",
      "    0    0    0    0    0    0    0    0    0    0    0    0    0    0\n",
      "    0    0    0    0    0    0    0    0    0    0    0    0    0    0\n",
      "    0    0    0    0    0    0    0    0    0    0    0    0    0    0\n",
      "    0    0    0    0    0    0    0    0    0    0    0    0    0    0\n",
      "    0    0    0    0    0    0    0    0    0    0    0    0    0    0\n",
      "    0    0    0    0    0    0    0    0    0    0    0    0    0    0\n",
      "    0    0    0    0    0    0    0    0    0    0    0    0    0    0\n",
      "    0    0    0    0    0    0    0    0    0    0    0    0    0    0\n",
      "    0    0    0    0    0    0    0    0    0    0    0    0    0    0\n",
      "    0    0    0    0    0    0    0    0    0    0    0    0    0    0\n",
      "    0    0    0    0    0    0    0    0    0    0    0    0    0    0\n",
      "    0    0    0    0    0    0    0    0    0    0    0    0    0    0\n",
      "    0    0    0    0    0    0    0    0    0    0    0    0    0    0\n",
      "    0    0    0    0    0    0    0    0    0    0    0    0    0    0\n",
      "    0    0    0    0    0    0    0    0    0    0    0    0    0    0\n",
      "    0    0    0    0    0    0    0    0    0    0]\n"
     ]
    }
   ],
   "source": [
    "print(train_data[0])"
   ]
  },
  {
   "cell_type": "code",
   "execution_count": 7,
   "metadata": {},
   "outputs": [
    {
     "name": "stdout",
     "output_type": "stream",
     "text": [
      "WARNING:tensorflow:From C:\\Users\\SHIKHA\\Anaconda3\\envs\\tf_gpu\\lib\\site-packages\\tensorflow\\python\\ops\\resource_variable_ops.py:435: colocate_with (from tensorflow.python.framework.ops) is deprecated and will be removed in a future version.\n",
      "Instructions for updating:\n",
      "Colocations handled automatically by placer.\n",
      "_________________________________________________________________\n",
      "Layer (type)                 Output Shape              Param #   \n",
      "=================================================================\n",
      "embedding_1 (Embedding)      (None, 500, 16)           160000    \n",
      "_________________________________________________________________\n",
      "global_average_pooling1d (Gl (None, 16)                0         \n",
      "_________________________________________________________________\n",
      "dense (Dense)                (None, 16)                272       \n",
      "_________________________________________________________________\n",
      "dense_1 (Dense)              (None, 1)                 17        \n",
      "=================================================================\n",
      "Total params: 160,289\n",
      "Trainable params: 160,289\n",
      "Non-trainable params: 0\n",
      "_________________________________________________________________\n"
     ]
    }
   ],
   "source": [
    "embedding_dim=16\n",
    "\n",
    "model = keras.Sequential([\n",
    "  layers.Embedding(vocab_size, embedding_dim, input_length=maxlen),\n",
    "  layers.GlobalAveragePooling1D(),\n",
    "  layers.Dense(16, activation='relu'),\n",
    "  layers.Dense(1, activation='sigmoid')\n",
    "])\n",
    "\n",
    "model.summary()"
   ]
  },
  {
   "cell_type": "code",
   "execution_count": 8,
   "metadata": {},
   "outputs": [
    {
     "name": "stdout",
     "output_type": "stream",
     "text": [
      "Train on 25000 samples, validate on 25000 samples\n",
      "WARNING:tensorflow:From C:\\Users\\SHIKHA\\Anaconda3\\envs\\tf_gpu\\lib\\site-packages\\tensorflow\\python\\ops\\math_ops.py:3066: to_int32 (from tensorflow.python.ops.math_ops) is deprecated and will be removed in a future version.\n",
      "Instructions for updating:\n",
      "Use tf.cast instead.\n",
      "Epoch 1/30\n",
      "25000/25000 [==============================] - 3s 120us/sample - loss: 0.6918 - acc: 0.5432 - val_loss: 0.6892 - val_acc: 0.5920\n",
      "Epoch 2/30\n",
      "25000/25000 [==============================] - 1s 38us/sample - loss: 0.6825 - acc: 0.6672 - val_loss: 0.6744 - val_acc: 0.7500\n",
      "Epoch 3/30\n",
      "25000/25000 [==============================] - 1s 31us/sample - loss: 0.6569 - acc: 0.7584 - val_loss: 0.6405 - val_acc: 0.7663\n",
      "Epoch 4/30\n",
      "25000/25000 [==============================] - 1s 34us/sample - loss: 0.6100 - acc: 0.7908 - val_loss: 0.5898 - val_acc: 0.7813\n",
      "Epoch 5/30\n",
      "25000/25000 [==============================] - 1s 37us/sample - loss: 0.5477 - acc: 0.8173 - val_loss: 0.5290 - val_acc: 0.8167\n",
      "Epoch 6/30\n",
      "25000/25000 [==============================] - 1s 45us/sample - loss: 0.4817 - acc: 0.8433 - val_loss: 0.4719 - val_acc: 0.8357\n",
      "Epoch 7/30\n",
      "25000/25000 [==============================] - 1s 38us/sample - loss: 0.4235 - acc: 0.8633 - val_loss: 0.4264 - val_acc: 0.8485\n",
      "Epoch 8/30\n",
      "25000/25000 [==============================] - 1s 43us/sample - loss: 0.3778 - acc: 0.8743 - val_loss: 0.3915 - val_acc: 0.8578\n",
      "Epoch 9/30\n",
      "25000/25000 [==============================] - 1s 36us/sample - loss: 0.3421 - acc: 0.8852 - val_loss: 0.3660 - val_acc: 0.8634\n",
      "Epoch 10/30\n",
      "25000/25000 [==============================] - 1s 40us/sample - loss: 0.3151 - acc: 0.8918 - val_loss: 0.3474 - val_acc: 0.8684\n",
      "Epoch 11/30\n",
      "25000/25000 [==============================] - 1s 43us/sample - loss: 0.2927 - acc: 0.8984 - val_loss: 0.3331 - val_acc: 0.8722\n",
      "Epoch 12/30\n",
      "25000/25000 [==============================] - 1s 45us/sample - loss: 0.2745 - acc: 0.9044 - val_loss: 0.3218 - val_acc: 0.8752\n",
      "Epoch 13/30\n",
      "25000/25000 [==============================] - 1s 35us/sample - loss: 0.2597 - acc: 0.9085 - val_loss: 0.3130 - val_acc: 0.8777\n",
      "Epoch 14/30\n",
      "25000/25000 [==============================] - 1s 33us/sample - loss: 0.2459 - acc: 0.9148 - val_loss: 0.3058 - val_acc: 0.8796\n",
      "Epoch 15/30\n",
      "25000/25000 [==============================] - 1s 34us/sample - loss: 0.2340 - acc: 0.9191 - val_loss: 0.2999 - val_acc: 0.8822\n",
      "Epoch 16/30\n",
      "25000/25000 [==============================] - 1s 43us/sample - loss: 0.2239 - acc: 0.9221 - val_loss: 0.2967 - val_acc: 0.8825\n",
      "Epoch 17/30\n",
      "25000/25000 [==============================] - 1s 42us/sample - loss: 0.2139 - acc: 0.9257 - val_loss: 0.2922 - val_acc: 0.8844\n",
      "Epoch 18/30\n",
      "25000/25000 [==============================] - 1s 43us/sample - loss: 0.2051 - acc: 0.9297 - val_loss: 0.2916 - val_acc: 0.8841\n",
      "Epoch 19/30\n",
      "25000/25000 [==============================] - 1s 42us/sample - loss: 0.1972 - acc: 0.9325 - val_loss: 0.2900 - val_acc: 0.8845\n",
      "Epoch 20/30\n",
      "25000/25000 [==============================] - 1s 43us/sample - loss: 0.1900 - acc: 0.9347 - val_loss: 0.2880 - val_acc: 0.8859\n",
      "Epoch 21/30\n",
      "25000/25000 [==============================] - 1s 44us/sample - loss: 0.1834 - acc: 0.9368 - val_loss: 0.2913 - val_acc: 0.8842\n",
      "Epoch 22/30\n",
      "25000/25000 [==============================] - 1s 42us/sample - loss: 0.1785 - acc: 0.9404 - val_loss: 0.2878 - val_acc: 0.8858\n",
      "Epoch 23/30\n",
      "25000/25000 [==============================] - 1s 40us/sample - loss: 0.1714 - acc: 0.9424 - val_loss: 0.2868 - val_acc: 0.8858\n",
      "Epoch 24/30\n",
      "25000/25000 [==============================] - 1s 42us/sample - loss: 0.1659 - acc: 0.9448 - val_loss: 0.2891 - val_acc: 0.8857\n",
      "Epoch 25/30\n",
      "25000/25000 [==============================] - 1s 42us/sample - loss: 0.1605 - acc: 0.9471 - val_loss: 0.2884 - val_acc: 0.8852\n",
      "Epoch 26/30\n",
      "25000/25000 [==============================] - 1s 43us/sample - loss: 0.1562 - acc: 0.9482 - val_loss: 0.2891 - val_acc: 0.8859\n",
      "Epoch 27/30\n",
      "25000/25000 [==============================] - 1s 42us/sample - loss: 0.1512 - acc: 0.9504 - val_loss: 0.2919 - val_acc: 0.8851\n",
      "Epoch 28/30\n",
      "25000/25000 [==============================] - 1s 35us/sample - loss: 0.1465 - acc: 0.9518 - val_loss: 0.2946 - val_acc: 0.8854\n",
      "Epoch 29/30\n",
      "25000/25000 [==============================] - 1s 32us/sample - loss: 0.1423 - acc: 0.9531 - val_loss: 0.2985 - val_acc: 0.8840\n",
      "Epoch 30/30\n",
      "25000/25000 [==============================] - 1s 31us/sample - loss: 0.1382 - acc: 0.9544 - val_loss: 0.2970 - val_acc: 0.8846\n"
     ]
    }
   ],
   "source": [
    "model.compile(optimizer='adam',\n",
    "              loss='binary_crossentropy',\n",
    "              metrics=['accuracy'])\n",
    "\n",
    "history = model.fit(\n",
    "    train_data,\n",
    "    train_labels,\n",
    "    epochs=30,\n",
    "    batch_size=512,\n",
    "    validation_data=(test_data, test_labels))"
   ]
  },
  {
   "cell_type": "code",
   "execution_count": 14,
   "metadata": {},
   "outputs": [
    {
     "data": {
      "image/png": "[encoded data removed]",
      "text/plain": [
       "<Figure size 864x648 with 1 Axes>"
      ]
     },
     "metadata": {
      "needs_background": "light"
     },
     "output_type": "display_data"
    },
    {
     "data": {
      "image/png": "[encoded data removed]",
      "text/plain": [
       "<Figure size 864x648 with 1 Axes>"
      ]
     },
     "metadata": {
      "needs_background": "light"
     },
     "output_type": "display_data"
    }
   ],
   "source": [
    "import matplotlib.pyplot as plt\n",
    "\n",
    "history_dict = history.history\n",
    "history_dict.keys()\n",
    "\n",
    "acc = history_dict['acc']\n",
    "val_acc = history_dict['val_acc']\n",
    "loss = history_dict['loss']\n",
    "val_loss = history_dict['val_loss']\n",
    "\n",
    "epochs = range(1, len(acc) + 1)\n",
    "\n",
    "plt.figure(figsize=(12,9))\n",
    "plt.plot(epochs, loss, 'bo', label='Training loss')\n",
    "plt.plot(epochs, val_loss, 'b', label='Validation loss')\n",
    "plt.title('Training and validation loss')\n",
    "plt.xlabel('Epochs')\n",
    "plt.ylabel('Loss')\n",
    "plt.legend()\n",
    "plt.show()\n",
    "\n",
    "plt.figure(figsize=(12,9))\n",
    "plt.plot(epochs, acc, 'bo', label='Training acc')\n",
    "plt.plot(epochs, val_acc, 'b', label='Validation acc')\n",
    "plt.title('Training and validation accuracy')\n",
    "plt.xlabel('Epochs')\n",
    "plt.ylabel('Accuracy')\n",
    "plt.legend(loc='lower right')\n",
    "plt.ylim((0.5,1))\n",
    "plt.show()"
   ]
  },
  {
   "cell_type": "code",
   "execution_count": 10,
   "metadata": {},
   "outputs": [
    {
     "name": "stdout",
     "output_type": "stream",
     "text": [
      "(10000, 16)\n"
     ]
    }
   ],
   "source": [
    "e = model.layers[0]\n",
    "weights = e.get_weights()[0]\n",
    "print(weights.shape) # shape: (vocab_size, embedding_dim)"
   ]
  },
  {
   "cell_type": "code",
   "execution_count": 19,
   "metadata": {},
   "outputs": [
    {
     "name": "stdout",
     "output_type": "stream",
     "text": [
      "1.0000000596046448\n",
      "0.06497180461883545\n",
      "0.04302665591239929\n",
      "0.8370257616043091\n",
      "0.9116218090057373\n",
      "0.9773151278495789\n"
     ]
    }
   ],
   "source": [
    "def cos_sim(a, b):\n",
    "    \"\"\"Takes 2 vectors a, b and returns the cosine similarity according \n",
    "to the definition of the dot product\"\"\"\n",
    "    dot_product = np.dot(a, b)\n",
    "    norm_a = np.linalg.norm(a)\n",
    "    norm_b = np.linalg.norm(b)\n",
    "    return dot_product / (norm_a * norm_b)\n",
    "\n",
    "minx = -1 \n",
    "maxx = 1\n",
    "\n",
    "a=weights[word_index[\"child\"]]\n",
    "b=weights[word_index[\"child\"]]\n",
    "print((cos_sim(a, b)- minx)/(maxx-minx))\n",
    "\n",
    "a=weights[word_index[\"child\"]]\n",
    "b=weights[word_index[\"adult\"]]\n",
    "print((cos_sim(a, b)- minx)/(maxx-minx))\n",
    "\n",
    "a=weights[word_index[\"warm\"]]\n",
    "b=weights[word_index[\"cold\"]]\n",
    "print((cos_sim(a, b)- minx)/(maxx-minx))\n",
    "\n",
    "a=weights[word_index[\"victory\"]]\n",
    "b=weights[word_index[\"loss\"]]\n",
    "print((cos_sim(a, b)- minx)/(maxx-minx))\n",
    "\n",
    "a=weights[word_index[\"king\"]]-weights[word_index[\"queen\"]]\n",
    "b=weights[word_index[\"man\"]]-weights[word_index[\"women\"]]\n",
    "print((cos_sim(a, b)- minx)/(maxx-minx))\n",
    "\n",
    "a=weights[word_index[\"king\"]]-weights[word_index[\"man\"]]+weights[word_index[\"queen\"]]\n",
    "b=weights[word_index[\"women\"]]\n",
    "print((cos_sim(a, b)- minx)/(maxx-minx))"
   ]
  },
  {
   "cell_type": "code",
   "execution_count": 20,
   "metadata": {},
   "outputs": [],
   "source": [
    "import io\n",
    "\n",
    "out_v = io.open('vecs.tsv', 'w', encoding='utf-8')\n",
    "out_m = io.open('meta.tsv', 'w', encoding='utf-8')\n",
    "for word_num in range(vocab_size):\n",
    "  word = reverse_word_index[word_num]\n",
    "  embeddings = weights[word_num]\n",
    "  out_m.write(word + \"\\n\")\n",
    "  out_v.write('\\t'.join([str(x) for x in embeddings]) + \"\\n\")\n",
    "out_v.close()\n",
    "out_m.close()"
   ]
  },
  {
   "cell_type": "code",
   "execution_count": 13,
   "metadata": {},
   "outputs": [],
   "source": [
    "try:\n",
    "  from google.colab import files\n",
    "except ImportError:\n",
    "   pass\n",
    "else:\n",
    "  files.download('vecs.tsv')\n",
    "  files.download('meta.tsv')"
   ]
  },
  {
   "cell_type": "code",
   "execution_count": null,
   "metadata": {},
   "outputs": [],
   "source": []
  }
 ],
 "metadata": {
  "kernelspec": {
   "display_name": "Python 3",
   "language": "python",
   "name": "python3"
  },
  "language_info": {
   "codemirror_mode": {
    "name": "ipython",
    "version": 3
   },
   "file_extension": ".py",
   "mimetype": "text/x-python",
   "name": "python",
   "nbconvert_exporter": "python",
   "pygments_lexer": "ipython3",
   "version": "3.7.3"
  }
 },
 "nbformat": 4,
 "nbformat_minor": 2
}
